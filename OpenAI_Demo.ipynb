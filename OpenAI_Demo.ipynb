{
  "nbformat": 4,
  "nbformat_minor": 0,
  "metadata": {
    "colab": {
      "provenance": [],
      "authorship_tag": "ABX9TyPZM2FLsWQZOKTwb4Q7RwlL",
      "include_colab_link": true
    },
    "kernelspec": {
      "name": "python3",
      "display_name": "Python 3"
    },
    "language_info": {
      "name": "python"
    }
  },
  "cells": [
    {
      "cell_type": "markdown",
      "metadata": {
        "id": "view-in-github",
        "colab_type": "text"
      },
      "source": [
        "<a href=\"https://colab.research.google.com/github/nekogurashi/Colab_Samples/blob/main/OpenAI_Demo.ipynb\" target=\"_parent\"><img src=\"https://colab.research.google.com/assets/colab-badge.svg\" alt=\"Open In Colab\"/></a>"
      ]
    },
    {
      "cell_type": "code",
      "execution_count": null,
      "metadata": {
        "id": "yXLgy8MNy8Za"
      },
      "outputs": [],
      "source": []
    },
    {
      "cell_type": "markdown",
      "source": [
        "OpenAI API を使用した動作確認プログラム\n"
      ],
      "metadata": {
        "id": "6YMSjSpGy-tl"
      }
    },
    {
      "source": [
        "# OpenAI API を使用した動作確認プログラム\n",
        "\n",
        "# OpenAI Python library をインストールします。\n",
        "!m pip install openai"
      ],
      "cell_type": "code",
      "metadata": {
        "colab": {
          "base_uri": "https://localhost:8080/"
        },
        "id": "bRqk4VHhzT1R",
        "outputId": "6d888b87-e75b-44a4-c473-a88c4d54c518"
      },
      "execution_count": 4,
      "outputs": [
        {
          "output_type": "stream",
          "name": "stdout",
          "text": [
            "/bin/bash: line 1: m: command not found\n"
          ]
        }
      ]
    },
    {
      "cell_type": "code",
      "source": [],
      "metadata": {
        "id": "WQLd7V9UzZPG"
      },
      "execution_count": null,
      "outputs": []
    },
    {
      "cell_type": "code",
      "source": [
        "# シンプルなOPENAIサンプル\n",
        "from google.colab import userdata\n",
        "my_openai_key = userdata.get('OPENAI_API_KEY')\n",
        "import os\n",
        "os.environ[\"OPENAI_API_KEY\"] = my_openai_key\n",
        "\n",
        "from openai import OpenAI\n",
        "client = OpenAI()\n",
        "\n",
        "completion = client.chat.completions.create(\n",
        "    model=\"gpt-4o-mini\",\n",
        "    messages=[\n",
        "        {\"role\": \"system\", \"content\": \"You are a helpful assistant.\"},\n",
        "        {\n",
        "            \"role\": \"user\",\n",
        "            \"content\": \"Write a haiku about recursion in programming.\"\n",
        "        }\n",
        "    ]\n",
        ")\n",
        "\n",
        "print(completion.choices[0].message)\n",
        "\n"
      ],
      "metadata": {
        "colab": {
          "base_uri": "https://localhost:8080/"
        },
        "id": "gpsp8FQB0GBJ",
        "outputId": "8494b2b8-a6a1-4137-c4bb-cb552236c14e"
      },
      "execution_count": 6,
      "outputs": [
        {
          "output_type": "stream",
          "name": "stdout",
          "text": [
            "ChatCompletionMessage(content='Functions call themselves,  \\nLayers of logic unfold,  \\nDepths of thought entwined.', refusal=None, role='assistant', audio=None, function_call=None, tool_calls=None)\n"
          ]
        }
      ]
    },
    {
      "cell_type": "code",
      "source": [],
      "metadata": {
        "id": "Phph_N4S2yEW"
      },
      "execution_count": null,
      "outputs": []
    },
    {
      "cell_type": "code",
      "source": [
        "# @title フォームを使った入力\n",
        "system_content_msg = \"貴方は有能なAIアシスタントです。\" # @param {\"type\":\"string\",\"placeholder\":\"systemの振る舞い\"}\n",
        "user_content_msg = \"秋をテーマにした俳句を提案して。\" # @param {\"type\":\"string\",\"placeholder\":\"ユーザーのリクエスト\"}\n",
        "# @markdown\n",
        "# シンプルなOPENAIサンプル\n",
        "from google.colab import userdata\n",
        "my_openai_key = userdata.get('OPENAI_API_KEY')\n",
        "import os\n",
        "os.environ[\"OPENAI_API_KEY\"] = my_openai_key\n",
        "\n",
        "from openai import OpenAI\n",
        "client = OpenAI()\n",
        "\n",
        "completion = client.chat.completions.create(\n",
        "    model=\"gpt-4o-mini\",\n",
        "    messages=[\n",
        "        {\"role\": \"system\", \"content\": system_content_msg},\n",
        "        {\n",
        "            \"role\": \"user\",\n",
        "            \"content\":user_content_msg\n",
        "        }\n",
        "    ]\n",
        ")\n",
        "\n",
        "print(completion.choices[0].message)\n",
        "\n"
      ],
      "metadata": {
        "colab": {
          "base_uri": "https://localhost:8080/"
        },
        "outputId": "640d1d6e-bf77-4136-b7b9-21f14c953385",
        "id": "wq3FJUzw2ylB"
      },
      "execution_count": 8,
      "outputs": [
        {
          "output_type": "stream",
          "name": "stdout",
          "text": [
            "ChatCompletionMessage(content='もちろんです。秋をテーマにした俳句をいくつか提案しますね。\\n\\n1. 落ち葉舞う\\u3000静けき道を\\u3000歩む秋\\n2. 月明かり\\u3000すすき揺れて\\u3000君を想う\\n3. 栗拾い\\u3000子どもの笑顔\\u3000秋の声\\n4. 秋風に\\u3000ほころぶ花々\\u3000色づいて\\n5. ひとすじの\\u3000煙の向こう\\u3000秋の空\\n\\nいかがでしょうか？もっと必要でしたらお知らせください。', refusal=None, role='assistant', audio=None, function_call=None, tool_calls=None)\n"
          ]
        }
      ]
    },
    {
      "cell_type": "code",
      "source": [
        "# @title デフォルトのタイトル テキスト\n",
        "my_prompt = \"かわいい猫\" # @param {\"type\":\"string\",\"placeholder\":\"生成プロンプト\"}\n",
        "img_size = \"1024x1024\" # @param [\"1024x1024\",\"1024x1024\"]\n",
        "from IPython.display import Image\n",
        "\n",
        "from openai import OpenAI\n",
        "client = OpenAI()\n",
        "\n",
        "\n",
        "response = client.images.generate(\n",
        "    prompt=my_prompt,\n",
        "    n=2,\n",
        "    size=img_size\n",
        ")\n",
        "\n",
        "print(response.data[0].url)\n",
        "\n",
        "image_html = f\"<img src='{response.data[0].url}' width='1024'>\"\n",
        "\n",
        "from IPython.display import HTML\n",
        "HTML(image_html)\n",
        ""
      ],
      "metadata": {
        "id": "X5-IEhp5G8Az"
      },
      "execution_count": null,
      "outputs": []
    }
  ]
}