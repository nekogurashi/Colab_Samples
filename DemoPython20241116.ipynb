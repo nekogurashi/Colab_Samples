{
  "nbformat": 4,
  "nbformat_minor": 0,
  "metadata": {
    "colab": {
      "provenance": [],
      "mount_file_id": "1wmEgPdRfPAVE5LR8sB5qJTNXBo07gXU-",
      "authorship_tag": "ABX9TyPuIFhJs6lMoHfjCHA8BrA8",
      "include_colab_link": true
    },
    "kernelspec": {
      "name": "python3",
      "display_name": "Python 3"
    },
    "language_info": {
      "name": "python"
    }
  },
  "cells": [
    {
      "cell_type": "markdown",
      "metadata": {
        "id": "view-in-github",
        "colab_type": "text"
      },
      "source": [
        "<a href=\"https://colab.research.google.com/github/nekogurashi/colab_samples/blob/main/DemoPython20241116.ipynb\" target=\"_parent\"><img src=\"https://colab.research.google.com/assets/colab-badge.svg\" alt=\"Open In Colab\"/></a>"
      ]
    },
    {
      "cell_type": "code",
      "execution_count": null,
      "metadata": {
        "id": "50kxSTOijvyw"
      },
      "outputs": [],
      "source": [
        "# prompt: 入力した文字列を英訳します。\n",
        "\n",
        "!pip install googletrans==4.0.0-rc1\n",
        "\n",
        "from googletrans import Translator\n",
        "\n",
        "def translate_text(text):\n",
        "  translator = Translator()\n",
        "  translation = translator.translate(text, dest='en')\n",
        "  return translation.text\n",
        "\n",
        "input_text = input(\"Enter text to translate: \")\n",
        "translated_text = translate_text(input_text)\n",
        "print(f\"Translated text: {translated_text}\")"
      ]
    }
  ]
}